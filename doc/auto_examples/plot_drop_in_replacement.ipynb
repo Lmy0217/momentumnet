{
  "cells": [
    {
      "cell_type": "code",
      "execution_count": null,
      "metadata": {
        "collapsed": false
      },
      "outputs": [],
      "source": [
        "%matplotlib inline"
      ]
    },
    {
      "cell_type": "markdown",
      "metadata": {},
      "source": [
        "\n# Momentum ResNets are a drop-in replacement for ResNets\n\nThis illustrates on two simple examples how to replace a ResNet with a MomentumNet \n"
      ]
    },
    {
      "cell_type": "code",
      "execution_count": null,
      "metadata": {
        "collapsed": false
      },
      "outputs": [],
      "source": [
        "# Authors: Michael Sander, Pierre Ablin\n# License: MIT\nimport torch\nfrom momentumnet import transform_to_momentumnet\nimport matplotlib.pyplot as plt\nimport numpy as np"
      ]
    },
    {
      "cell_type": "markdown",
      "metadata": {},
      "source": [
        "## A torchvision model\n\n"
      ]
    },
    {
      "cell_type": "code",
      "execution_count": null,
      "metadata": {
        "collapsed": false
      },
      "outputs": [],
      "source": [
        "from torchvision.models import resnet101\n\nresnet = resnet101(pretrained=True)\nmresnet101 = transform_to_momentumnet(resnet, gamma=0.99, use_backprop=False)\nx = torch.rand((64, 3, 7, 7), requires_grad=True)\nloss = mresnet101(x).sum()\nloss.backward()"
      ]
    },
    {
      "cell_type": "markdown",
      "metadata": {},
      "source": [
        "## It naturally extends the original ResNet\n\n"
      ]
    },
    {
      "cell_type": "code",
      "execution_count": null,
      "metadata": {
        "collapsed": false
      },
      "outputs": [],
      "source": [
        "x = torch.rand((64, 3, 7, 7))\nresnet = resnet101(pretrained=True)\nlx = resnet(x)\noutputs = []\nys = np.linspace(0, 0.2, 20)\nfor gamma in ys:\n    mresnet101 = transform_to_momentumnet(resnet, gamma=gamma)\n    outputs.append(((lx - mresnet101(x))**2).sum())\n\nplt.figure(figsize=(10, 5))\nplt.plot(\n    ys, outputs, linewidth=4, color=\"red\"\n)\ny_ = plt.ylabel(\"Squared norm difference with the original output\")\nx_ = plt.xlabel(\"Gamma\")\nplt.show()"
      ]
    },
    {
      "cell_type": "markdown",
      "metadata": {},
      "source": [
        "## A Natural Language Transformer model\n\n"
      ]
    },
    {
      "cell_type": "code",
      "execution_count": null,
      "metadata": {
        "collapsed": false
      },
      "outputs": [],
      "source": [
        "transformer = torch.nn.Transformer(num_encoder_layers=6, num_decoder_layers=6)\nmtransformer = transform_to_momentumnet(\n    transformer,\n    residual_layers=[\"encoder.layers\", \"decoder.layers\"],\n    gamma=0.99,\n    use_backprop=False,\n    keep_first_layer=False,\n)"
      ]
    }
  ],
  "metadata": {
    "kernelspec": {
      "display_name": "Python 3",
      "language": "python",
      "name": "python3"
    },
    "language_info": {
      "codemirror_mode": {
        "name": "ipython",
        "version": 3
      },
      "file_extension": ".py",
      "mimetype": "text/x-python",
      "name": "python",
      "nbconvert_exporter": "python",
      "pygments_lexer": "ipython3",
      "version": "3.7.7"
    }
  },
  "nbformat": 4,
  "nbformat_minor": 0
}