{
  "cells": [
    {
      "cell_type": "code",
      "execution_count": null,
      "metadata": {
        "collapsed": false
      },
      "outputs": [],
      "source": [
        "%matplotlib inline"
      ]
    },
    {
      "cell_type": "markdown",
      "metadata": {},
      "source": [
        "\n# Plotting the dynamics in 1D\n\nThis example compares the dynamics of a ResNet and a Momentum ResNet. We try to learn a mapping with crossing\ntrajectories. Trajectories corresponding to the ResNet fail to cross. On the opposite, the Momentum ResNet \nlearns the desired mapping.\n\n\nMichael E. Sander, Pierre Ablin, Mathieu Blondel,\nGabriel Peyre. Momentum Residual Neural Networks.\nProceedings of the 38th International Conference \non Machine Learning, PMLR 139:9276-9287\n"
      ]
    },
    {
      "cell_type": "code",
      "execution_count": null,
      "metadata": {
        "collapsed": false
      },
      "outputs": [],
      "source": [
        "# Authors: Michael Sander, Pierre Ablin\n# License: MIT\nimport copy\n\nimport torch\nimport torch.nn as nn\nimport numpy as np\nimport matplotlib.pyplot as plt\nimport torch.optim as optim\n\nfrom momentumnet import MomentumNet\nfrom momentumnet.toy_datasets import make_data_1D"
      ]
    },
    {
      "cell_type": "markdown",
      "metadata": {},
      "source": [
        "## Fix random seed for reproducible figures\n\n"
      ]
    },
    {
      "cell_type": "code",
      "execution_count": null,
      "metadata": {
        "collapsed": false
      },
      "outputs": [],
      "source": [
        "torch.manual_seed(1)"
      ]
    },
    {
      "cell_type": "markdown",
      "metadata": {},
      "source": [
        "## Parameters of the simulation\n\n"
      ]
    },
    {
      "cell_type": "code",
      "execution_count": null,
      "metadata": {
        "collapsed": false
      },
      "outputs": [],
      "source": [
        "hidden = 16\nn_iters = 15\ngamma = 0.99\nd = 1"
      ]
    },
    {
      "cell_type": "markdown",
      "metadata": {},
      "source": [
        "## Defining the functions for the forward pass\n\n"
      ]
    },
    {
      "cell_type": "code",
      "execution_count": null,
      "metadata": {
        "collapsed": false
      },
      "outputs": [],
      "source": [
        "function = nn.Sequential(nn.Linear(d, hidden), nn.Tanh(), nn.Linear(hidden, d))\nfunction_res = copy.deepcopy(function)"
      ]
    },
    {
      "cell_type": "markdown",
      "metadata": {},
      "source": [
        "## Defining our models\n\n"
      ]
    },
    {
      "cell_type": "code",
      "execution_count": null,
      "metadata": {
        "collapsed": false
      },
      "outputs": [],
      "source": [
        "mom_net = MomentumNet(\n    [\n        function,\n    ]\n    * n_iters,\n    gamma=gamma,\n    init_speed=0,\n)\nres_net = MomentumNet(\n    [\n        function_res,\n    ]\n    * n_iters,\n    gamma=0.0,\n    init_speed=0,\n)"
      ]
    },
    {
      "cell_type": "markdown",
      "metadata": {},
      "source": [
        "## Training our models to learn a non-homeomorphic mapping\n\n"
      ]
    },
    {
      "cell_type": "code",
      "execution_count": null,
      "metadata": {
        "collapsed": false
      },
      "outputs": [],
      "source": [
        "def h(x):\n    return -(x ** 3)\n\n\ndef Loss(pred, x):\n    return ((pred - h(x)) ** 2).mean()\n\n\noptimizer = optim.SGD(mom_net.parameters(), lr=0.01)\n\n\nfor i in range(301):\n    optimizer.zero_grad()\n    x = make_data_1D(200)\n    pred = mom_net(x)\n    loss = Loss(pred, x)\n    loss.backward()\n    optimizer.step()\n\noptimizer = optim.SGD(res_net.parameters(), lr=0.01)\n\n\nfor i in range(2001):\n    optimizer.zero_grad()\n    x = make_data_1D(200)\n    pred = res_net(x)\n    loss = Loss(pred, x)\n    loss.backward()\n    optimizer.step()"
      ]
    },
    {
      "cell_type": "markdown",
      "metadata": {},
      "source": [
        "## Plotting the output\n\n"
      ]
    },
    {
      "cell_type": "code",
      "execution_count": null,
      "metadata": {
        "collapsed": false
      },
      "outputs": [],
      "source": [
        "n_plot = 8\n\nnum_plots = n_plot\n\nplt.figure(figsize=(3, 4))\ncolormap = plt.cm.gist_ncar\nplt.gca().set_prop_cycle(\n    plt.cycler(\"color\", plt.cm.jet(np.linspace(0.8, 0.95, num_plots)))\n)\n\nx_ = make_data_1D(n_plot)\nx = np.linspace(-1, 1, n_plot)\nx_ = torch.tensor(x).view(-1, d).float()\nx_axis = np.arange(0, n_iters + 1)\n\npreds = np.zeros((n_iters + 1, n_plot))\n\npreds[0] = x_[:, 0]\n\nfor i in range(1, n_iters + 1):\n    mom_net = MomentumNet(\n        [\n            function,\n        ]\n        * i,\n        gamma=gamma,\n        init_speed=0,\n    )\n    with torch.no_grad():\n\n        pred_ = mom_net(x_)\n        preds[i] = pred_[:, 0]\n\nplt.plot(preds, x_axis, \"-x\", lw=2.5)\nplt.xticks([], [])\nplt.yticks([], [])\nplt.title(\"Momentum ResNet\")\nplt.ylabel(\"Depth\")\nplt.xlabel(\"Input\")\nplt.show()\n\nnum_plots = n_plot\n\nplt.figure(figsize=(3, 4))\ncolormap = plt.cm.gist_ncar\nplt.gca().set_prop_cycle(\n    plt.cycler(\"color\", plt.cm.jet(np.linspace(0.0, 0.1, num_plots)))\n)\n\nx_axis = np.arange(0, n_iters + 1)\n\npreds_res = np.zeros((n_iters + 1, n_plot))\n\npreds_res[0] = x_[:, 0]\nfor i in range(1, n_iters + 1):\n    res_net = MomentumNet(\n        [\n            function_res,\n        ]\n        * i,\n        gamma=0.0,\n        init_speed=0,\n    )\n\n    with torch.no_grad():\n        pred_ = res_net(x_)\n        preds_res[i] = pred_[:, 0]\n\nplt.plot(preds_res, x_axis, \"-x\", lw=2.5)\nplt.xticks([], [])\nplt.yticks([], [])\nplt.title(\"ResNet\")\nplt.ylabel(\"Depth\")\nplt.xlabel(\"Input\")\nplt.show()"
      ]
    }
  ],
  "metadata": {
    "kernelspec": {
      "display_name": "Python 3",
      "language": "python",
      "name": "python3"
    },
    "language_info": {
      "codemirror_mode": {
        "name": "ipython",
        "version": 3
      },
      "file_extension": ".py",
      "mimetype": "text/x-python",
      "name": "python",
      "nbconvert_exporter": "python",
      "pygments_lexer": "ipython3",
      "version": "3.8.1"
    }
  },
  "nbformat": 4,
  "nbformat_minor": 0
}