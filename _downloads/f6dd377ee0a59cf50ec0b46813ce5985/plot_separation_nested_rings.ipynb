{
  "cells": [
    {
      "cell_type": "code",
      "execution_count": null,
      "metadata": {
        "collapsed": false
      },
      "outputs": [],
      "source": [
        "%matplotlib inline"
      ]
    },
    {
      "cell_type": "markdown",
      "metadata": {},
      "source": [
        "\n# Separation of nested rings using a Momentum ResNet.\n\nThis example shows how a Momentum ResNet separates two nested rings\n\n\nMichael E. Sander, Pierre Ablin, Mathieu Blondel,\nGabriel Peyre. Momentum Residual Neural Networks.\nProceedings of the 38th International Conference\non Machine Learning, PMLR 139:9276-9287\n"
      ]
    },
    {
      "cell_type": "code",
      "execution_count": null,
      "metadata": {
        "collapsed": false
      },
      "outputs": [],
      "source": [
        "# Authors: Michael Sander, Pierre Ablin\n# License: MIT\n\nimport matplotlib.pyplot as plt\nimport torch\nfrom torch import nn\nimport numpy as np\nimport torch.optim as optim\nfrom momentumnet import MomentumNet\nfrom momentumnet.toy_datasets import make_data\n\ntorch.manual_seed(1)"
      ]
    },
    {
      "cell_type": "markdown",
      "metadata": {},
      "source": [
        "## Parameters of the simulation\n\n"
      ]
    },
    {
      "cell_type": "code",
      "execution_count": null,
      "metadata": {
        "collapsed": false
      },
      "outputs": [],
      "source": [
        "hidden = 16\nn_iters = 10\nN = 1000\n\nfunction = nn.Sequential(nn.Linear(2, hidden), nn.Tanh(), nn.Linear(hidden, 2))\n\n# Network\nmresnet = MomentumNet(\n    [\n        function,\n    ]\n    * n_iters,\n    gamma=0.99,\n)\n\ncriterion = nn.CrossEntropyLoss()\n\nn_epochs = 30\nlr_list = np.ones(n_epochs) * 0.5\n\noptimizer = optim.Adam(mresnet.parameters(), lr=lr_list[0])"
      ]
    },
    {
      "cell_type": "markdown",
      "metadata": {},
      "source": [
        "## Training\n\n"
      ]
    },
    {
      "cell_type": "code",
      "execution_count": null,
      "metadata": {
        "collapsed": false
      },
      "outputs": [],
      "source": [
        "for i in range(n_epochs):\n    for param_group in optimizer.param_groups:\n        param_group[\"lr\"] = lr_list[i]\n    optimizer.zero_grad()\n    x, y = make_data(\n        2000,\n    )\n    pred = mresnet(x)\n    loss = criterion(pred, y)\n    loss.backward()\n    optimizer.step()"
      ]
    },
    {
      "cell_type": "markdown",
      "metadata": {},
      "source": [
        "## Plot the results\n\n"
      ]
    },
    {
      "cell_type": "code",
      "execution_count": null,
      "metadata": {
        "collapsed": false
      },
      "outputs": [],
      "source": [
        "x_, y_ = make_data(500)\n\nfig, axis = plt.subplots(1, n_iters + 1, figsize=(n_iters + 1, 1))\n\nfor i in range(n_iters + 1):\n    mom_net = MomentumNet(\n        [\n            function,\n        ]\n        * i,\n        gamma=0.99,\n        init_speed=0,\n    )\n    with torch.no_grad():\n        pred_ = mom_net(x_)\n        axis[i].scatter(pred_[:, 0], pred_[:, 1], c=y_ + 3, s=1)\n        axis[i].axis(\"off\")\nplt.show()"
      ]
    }
  ],
  "metadata": {
    "kernelspec": {
      "display_name": "Python 3",
      "language": "python",
      "name": "python3"
    },
    "language_info": {
      "codemirror_mode": {
        "name": "ipython",
        "version": 3
      },
      "file_extension": ".py",
      "mimetype": "text/x-python",
      "name": "python",
      "nbconvert_exporter": "python",
      "pygments_lexer": "ipython3",
      "version": "3.8.1"
    }
  },
  "nbformat": 4,
  "nbformat_minor": 0
}