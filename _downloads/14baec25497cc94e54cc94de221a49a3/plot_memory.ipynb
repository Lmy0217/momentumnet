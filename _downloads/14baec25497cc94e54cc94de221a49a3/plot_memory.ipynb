{
  "cells": [
    {
      "cell_type": "code",
      "execution_count": null,
      "metadata": {
        "collapsed": false
      },
      "outputs": [],
      "source": [
        "%matplotlib inline"
      ]
    },
    {
      "cell_type": "markdown",
      "metadata": {},
      "source": [
        "\n# Plotting memory consumptions\n\nThis example compares memory used when using a ResNet or a Momentum ResNet as a function of their depth\n"
      ]
    },
    {
      "cell_type": "code",
      "execution_count": null,
      "metadata": {
        "collapsed": false
      },
      "outputs": [],
      "source": [
        "# Authors: Michael Sander, Pierre Ablin\n# License: MIT\n\nimport torch\nimport torch.nn as nn\nfrom momentumnet import MomentumNet\nimport matplotlib.pyplot as plt\nfrom memory_profiler import memory_usage\nimport numpy as np\n\ndevice = torch.device(\"cuda:0\" if torch.cuda.is_available() else \"cpu\")"
      ]
    },
    {
      "cell_type": "markdown",
      "metadata": {},
      "source": [
        "## Fix random seed for reproducible figures\n\n"
      ]
    },
    {
      "cell_type": "code",
      "execution_count": null,
      "metadata": {
        "collapsed": false
      },
      "outputs": [],
      "source": [
        "torch.manual_seed(1)"
      ]
    },
    {
      "cell_type": "markdown",
      "metadata": {},
      "source": [
        "## Parameters of the simulation\n\n"
      ]
    },
    {
      "cell_type": "code",
      "execution_count": null,
      "metadata": {
        "collapsed": false
      },
      "outputs": [],
      "source": [
        "Depths = np.arange(1, 200, 100)\n\n\nhidden = 1\nd = 2\n\nfunction = nn.Sequential(nn.Linear(d, hidden), nn.Tanh(), nn.Linear(hidden, d))\nfunction_res = nn.Sequential(\n    nn.Linear(d, hidden), nn.Tanh(), nn.Linear(hidden, d)\n)\n\nX = torch.rand(2, 200000, d)\n\n\ndef train(net):\n    Loss = (net(X) ** 2).mean()\n    Loss.backward()\n\n\nMem_list_mom = []\n\nfor n_iters in Depths:\n\n    mom_net = MomentumNet(\n        [\n            function,\n        ]\n        * n_iters,\n        gamma=1 - 1 / (50 * n_iters),\n        init_speed=0,\n        use_backprop=False,\n    )\n    used_mem = np.max(memory_usage((train, (mom_net,))))\n    Mem_list_mom.append(used_mem)\n\nMem_list_res = []\n\nfor n_iters in Depths:\n\n    res_net = MomentumNet(\n        [\n            function_res,\n        ]\n        * n_iters,\n        gamma=0.0,\n        init_speed=0,\n        use_backprop=True,\n    )\n    used_mem = np.max(memory_usage((train, (res_net,))))\n    Mem_list_res.append(used_mem)\n\nplt.figure(figsize=(8, 4))\n\nplt.plot(\n    Depths, Mem_list_res, label=\"ResNet\", linewidth=4, color=\"darkblue\"\n)\nplt.plot(\n    Depths, Mem_list_mom, label=\"MomentumNet\", linewidth=4, color=\"red\"\n)\ny_ = plt.ylabel(\"Memory (MiB)\")\nx_ = plt.xlabel(\"Depth\")\nplt.legend()\nplt.show()"
      ]
    }
  ],
  "metadata": {
    "kernelspec": {
      "display_name": "Python 3",
      "language": "python",
      "name": "python3"
    },
    "language_info": {
      "codemirror_mode": {
        "name": "ipython",
        "version": 3
      },
      "file_extension": ".py",
      "mimetype": "text/x-python",
      "name": "python",
      "nbconvert_exporter": "python",
      "pygments_lexer": "ipython3",
      "version": "3.8.1"
    }
  },
  "nbformat": 4,
  "nbformat_minor": 0
}