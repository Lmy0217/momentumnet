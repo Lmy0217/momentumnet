{
  "cells": [
    {
      "cell_type": "code",
      "execution_count": null,
      "metadata": {
        "collapsed": false
      },
      "outputs": [],
      "source": [
        "%matplotlib inline"
      ]
    },
    {
      "cell_type": "markdown",
      "metadata": {},
      "source": [
        "\n# Plotting memory consumptions\n\nThis example compares memory used when using a ResNet or a Momentum ResNet as a function of their depth\n"
      ]
    },
    {
      "cell_type": "code",
      "execution_count": null,
      "metadata": {
        "collapsed": false
      },
      "outputs": [],
      "source": [
        "# Authors: Michael Sander, Pierre Ablin\n# License: MIT\n\nimport torch\nimport torch.nn as nn\nfrom momentumnet import MomentumNet, Mom\nimport matplotlib.pyplot as plt\nfrom memory_profiler import memory_usage\nimport numpy as np\nimport os\n\ndevice = torch.device(\"cuda:0\" if torch.cuda.is_available() else \"cpu\")\n\n\nif not os.path.isdir(\"figures\"):\n    os.mkdir(\"figures\")"
      ]
    },
    {
      "cell_type": "markdown",
      "metadata": {},
      "source": [
        "## Fix random seed for reproducible figures\n\n"
      ]
    },
    {
      "cell_type": "code",
      "execution_count": null,
      "metadata": {
        "collapsed": false
      },
      "outputs": [],
      "source": [
        "torch.manual_seed(1)"
      ]
    },
    {
      "cell_type": "markdown",
      "metadata": {},
      "source": [
        "## Parameters of the simulation\n\n"
      ]
    },
    {
      "cell_type": "code",
      "execution_count": null,
      "metadata": {
        "collapsed": false
      },
      "outputs": [],
      "source": [
        "Depths = np.arange(1, 300, 100)\n\n\nhidden = 8\ngamma = 0.99\nd = 500\n\nfunction = nn.Sequential(nn.Linear(d, hidden), nn.Tanh(), nn.Linear(hidden, d))\nfunction_res = nn.Sequential(\n    nn.Linear(d, hidden), nn.Tanh(), nn.Linear(hidden, d)\n)\n\nX = torch.rand(500, 500)\n\n\ndef train(net):\n    Loss = (net(X) ** 2).mean()\n    Loss.backward()\n\n\nif __name__ == \"__main__\":\n    Mem_list_mom = []\n\n    for n_iters in Depths:\n        mom_net = Mom(\n            [\n                function,\n            ]\n            * n_iters,\n            gamma=1 - 1 / (50 * n_iters),\n            init_speed=0,\n        )\n        used_mem = np.max(memory_usage((train, (mom_net,))))\n        Mem_list_mom.append(used_mem)\n\n    Mem_list_res = []\n\n    for n_iters in Depths:\n        res_net = MomentumNet(\n            [\n                function_res,\n            ],\n            gamma=0.0,\n            n_iters=n_iters,\n            learn_gamma=False,\n            init_speed=0,\n        )\n        used_mem = np.max(memory_usage((train, (res_net,))))\n        Mem_list_res.append(used_mem)\n\n    plt.figure(figsize=(4, 1.5))\n\n    plt.plot(\n        Depths, Mem_list_res, label=\"ResNet\", linewidth=4, color=\"darkblue\"\n    )\n    plt.plot(\n        Depths, Mem_list_mom, label=\"MomentumNet\", linewidth=4, color=\"red\"\n    )\n    plt.yscale(\"log\")\n    y_ = plt.ylabel(\"Memory (MiB)\")\n    x_ = plt.xlabel(\"Depth\")\n    plt.legend()\n    plt.show()"
      ]
    }
  ],
  "metadata": {
    "kernelspec": {
      "display_name": "Python 3",
      "language": "python",
      "name": "python3"
    },
    "language_info": {
      "codemirror_mode": {
        "name": "ipython",
        "version": 3
      },
      "file_extension": ".py",
      "mimetype": "text/x-python",
      "name": "python",
      "nbconvert_exporter": "python",
      "pygments_lexer": "ipython3",
      "version": "3.8.1"
    }
  },
  "nbformat": 4,
  "nbformat_minor": 0
}