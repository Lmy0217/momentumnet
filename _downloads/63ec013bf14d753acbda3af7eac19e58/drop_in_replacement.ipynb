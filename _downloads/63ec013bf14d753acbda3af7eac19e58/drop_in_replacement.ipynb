{
  "cells": [
    {
      "cell_type": "code",
      "execution_count": null,
      "metadata": {
        "collapsed": false
      },
      "outputs": [],
      "source": [
        "%matplotlib inline"
      ]
    },
    {
      "cell_type": "markdown",
      "metadata": {},
      "source": [
        "\n# From ResNets to Momentum ResNets 2)\n\nThis illustrates on two simple examples how to replace an existing\nResNet with a MomentumNet.\n\n\nMichael E. Sander, Pierre Ablin, Mathieu Blondel,\nGabriel Peyre. Momentum Residual Neural Networks.\nProceedings of the 38th International Conference \non Machine Learning, PMLR 139:9276-9287\n"
      ]
    },
    {
      "cell_type": "code",
      "execution_count": null,
      "metadata": {
        "collapsed": false
      },
      "outputs": [],
      "source": [
        "# Authors: Michael Sander, Pierre Ablin\n# License: MIT\nimport torch\nfrom momentumnet import transform_to_momentumnet"
      ]
    },
    {
      "cell_type": "markdown",
      "metadata": {},
      "source": [
        "## A torchvision model\n\n"
      ]
    },
    {
      "cell_type": "code",
      "execution_count": null,
      "metadata": {
        "collapsed": false
      },
      "outputs": [],
      "source": [
        "from torchvision.models import resnet18\n\nresnet = resnet18()\nmresnet18 = transform_to_momentumnet(resnet, gamma=0.99, use_backprop=False)"
      ]
    },
    {
      "cell_type": "markdown",
      "metadata": {},
      "source": [
        "It naturally extends the original ResNet\n\n"
      ]
    },
    {
      "cell_type": "code",
      "execution_count": null,
      "metadata": {
        "collapsed": false
      },
      "outputs": [],
      "source": [
        "x = torch.rand((64, 3, 7, 7))\nresnet = resnet18()\nlx = resnet(x)\nmresnet = transform_to_momentumnet(resnet, gamma=0.0, use_backprop=False)\n# gamma = 0 should gives the exacts same model\nprint(((resnet(x) - mresnet(x)) ** 2).sum())"
      ]
    },
    {
      "cell_type": "markdown",
      "metadata": {},
      "source": [
        "## A Natural Language Transformer model\n\n"
      ]
    },
    {
      "cell_type": "code",
      "execution_count": null,
      "metadata": {
        "collapsed": false
      },
      "outputs": [],
      "source": [
        "transformer = torch.nn.Transformer(num_encoder_layers=6, num_decoder_layers=6)\nmtransformer = transform_to_momentumnet(\n    transformer,  # Specify the sublayers to transform\n    sub_layers=[\"encoder.layers\", \"decoder.layers\"],\n    gamma=0.99,\n    use_backprop=False,\n    keep_first_layer=False,\n)"
      ]
    }
  ],
  "metadata": {
    "kernelspec": {
      "display_name": "Python 3",
      "language": "python",
      "name": "python3"
    },
    "language_info": {
      "codemirror_mode": {
        "name": "ipython",
        "version": 3
      },
      "file_extension": ".py",
      "mimetype": "text/x-python",
      "name": "python",
      "nbconvert_exporter": "python",
      "pygments_lexer": "ipython3",
      "version": "3.8.1"
    }
  },
  "nbformat": 4,
  "nbformat_minor": 0
}