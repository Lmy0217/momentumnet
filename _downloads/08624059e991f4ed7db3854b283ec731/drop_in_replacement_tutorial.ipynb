{
  "cells": [
    {
      "cell_type": "code",
      "execution_count": null,
      "metadata": {
        "collapsed": false
      },
      "outputs": [],
      "source": [
        "%matplotlib inline"
      ]
    },
    {
      "cell_type": "markdown",
      "metadata": {},
      "source": [
        "\n# From ResNets to Momentum ResNets 1)\n\nThis is a tutorial to use the transform_to_momentumnet\nmethod:\n\nMichael E. Sander, Pierre Ablin, Mathieu Blondel,\nGabriel Peyre. Momentum Residual Neural Networks.\nProceedings of the 38th International Conference \non Machine Learning, PMLR 139:9276-9287\n"
      ]
    },
    {
      "cell_type": "code",
      "execution_count": null,
      "metadata": {
        "collapsed": false
      },
      "outputs": [],
      "source": [
        "# Authors: Michael Sander, Pierre Ablin\n# License: MIT\nfrom torch import nn\nfrom momentumnet import transform_to_momentumnet"
      ]
    },
    {
      "cell_type": "markdown",
      "metadata": {},
      "source": [
        "## Let us define a toy Neural Network\n\n"
      ]
    },
    {
      "cell_type": "code",
      "execution_count": null,
      "metadata": {
        "collapsed": false
      },
      "outputs": [],
      "source": [
        "class ResBlock(nn.Module):\n    def __init__(self, functions):\n        super(ResBlock, self).__init__()\n        self.functions = functions\n\n    def forward(self, x):\n\n        for f in self.functions:\n            x = x + f(x)\n\n        return x\n\n\nclass Net(nn.Module):\n    def __init__(self):\n        super(Net, self).__init__()\n        self.res_layer1 = ResBlock(\n            nn.Sequential(\n                *[\n                    nn.Sequential(\n                        nn.Linear(2, 10), nn.Tanh(), nn.Linear(10, 2)\n                    )\n                    for _ in range(3)\n                ]\n            )\n        )\n        self.l1 = nn.Linear(2, 4)\n        self.layer2 = nn.Sequential(\n            *[\n                nn.Sequential(nn.Linear(4, 100), nn.ReLU(), nn.Linear(100, 4))\n                for _ in range(4)\n            ]\n        )\n        self.l2 = nn.Linear(4, 8)\n\n        self.fc = nn.Linear(8, 10)\n\n    def forward(self, x):\n\n        out = self.res_layer1(x)  # Residual\n        out = self.l1(out)\n        out = self.layer2(out)  # Not Residual but same dimensions\n        out = self.l2(out)\n        out = self.fc(out)\n\n        return out\n\n\nnet = Net()"
      ]
    },
    {
      "cell_type": "markdown",
      "metadata": {},
      "source": [
        "## We want to transform it into its Momentum version\n\n"
      ]
    },
    {
      "cell_type": "markdown",
      "metadata": {},
      "source": [
        "The first layer 'res_layer1' preserves dimension and is residual.\nIt can be accessed through net.res_layer_1.functions so we will specify\nthis attribute as the \"sub_layers\" parameter.\nOne can transform this residual block into a momentum one as follow:\n\n"
      ]
    },
    {
      "cell_type": "code",
      "execution_count": null,
      "metadata": {
        "collapsed": false
      },
      "outputs": [],
      "source": [
        "mnet1 = transform_to_momentumnet(\n    net,\n    [\"res_layer1.functions\"],  # attributes of the sublayers in net\n    gamma=0.9,\n    use_backprop=False,\n    is_residual=True,\n    keep_first_layer=False,\n)"
      ]
    },
    {
      "cell_type": "markdown",
      "metadata": {},
      "source": [
        "Note that layer2 is not residual but also preserves dimensions.\nIt can be accessed through net.layer_2 so we will specify\nthis attribute as the \"sub_layers\" parameter.\nOne can transform it in the same way setting is_residual to False.\n\n"
      ]
    },
    {
      "cell_type": "code",
      "execution_count": null,
      "metadata": {
        "collapsed": false
      },
      "outputs": [],
      "source": [
        "mnet = transform_to_momentumnet(\n    mnet1,\n    [\"layer2\"],\n    gamma=0.9,\n    use_backprop=False,\n    is_residual=False,\n    keep_first_layer=False,\n)"
      ]
    },
    {
      "cell_type": "markdown",
      "metadata": {},
      "source": [
        "net, mnet1, and mnet have the same parameters.\n\n"
      ]
    }
  ],
  "metadata": {
    "kernelspec": {
      "display_name": "Python 3",
      "language": "python",
      "name": "python3"
    },
    "language_info": {
      "codemirror_mode": {
        "name": "ipython",
        "version": 3
      },
      "file_extension": ".py",
      "mimetype": "text/x-python",
      "name": "python",
      "nbconvert_exporter": "python",
      "pygments_lexer": "ipython3",
      "version": "3.8.1"
    }
  },
  "nbformat": 4,
  "nbformat_minor": 0
}